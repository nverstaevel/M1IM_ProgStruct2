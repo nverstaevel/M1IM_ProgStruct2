{
 "cells": [
  {
   "cell_type": "markdown",
   "id": "e06ba78a",
   "metadata": {},
   "source": [
    "# Je souhaite étudier le devenir des étudiants de la Miage Toulouse et comparer leur situation après diplomation avec un autre établissement"
   ]
  },
  {
   "cell_type": "markdown",
   "id": "c22f5a83",
   "metadata": {
    "slideshow": {
     "slide_type": "slide"
    }
   },
   "source": [
    "### Je récupère les données de l'insertion professionnelle des diplômés de Master en universités et établissements assimilés depuis le site du ministère\n",
    "\n",
    "Le site https://www.data.gouv.fr/fr/datasets/insertion-professionnelle-des-diplomes-de-master-en-universites-et-etablissements-assimil-0/ propose les données de résultat d'enquête de 2012 à 2020.\n",
    "\n",
    "Il est notamment possible d'y visualiser, par établissement, par domaine et par diplome les informations suivantes:\n"
   ]
  },
  {
   "cell_type": "markdown",
   "id": "de180ae7",
   "metadata": {
    "slideshow": {
     "slide_type": "slide"
    }
   },
   "source": [
    "* salaire_net_median_des_emplois_a_temps_plein : Salaire net mensuel médian des emplois à temps plein\n",
    "\n",
    "* taux_de_chomage_regional : Taux de chômage régional (INSEE : 4ème trimestre N+2)\n",
    "\n",
    "* salaire_net_mensuel_median_regional : Salaire mensuel net médian des jeunes de 25 à 29 ans employés à temps plein dans les catégories cadre et professions intermédiaires (INSEE : DADS N)\n",
    "\n",
    "* taux_dinsertion : Taux d'insertion"
   ]
  },
  {
   "cell_type": "markdown",
   "id": "13edea83",
   "metadata": {
    "slideshow": {
     "slide_type": "slide"
    }
   },
   "source": [
    "Je récupère les données JSON à l'aide du module requests"
   ]
  },
  {
   "cell_type": "code",
   "execution_count": 1,
   "id": "a17f1a31",
   "metadata": {},
   "outputs": [],
   "source": [
    "import requests\n",
    "url = \"https://www.data.gouv.fr/fr/datasets/r/1e252d82-7dc2-4ee5-b5cd-dd5a8683acb2\"\n",
    "r = requests.get(url)"
   ]
  },
  {
   "cell_type": "markdown",
   "id": "20ef0e2f",
   "metadata": {
    "slideshow": {
     "slide_type": "slide"
    }
   },
   "source": [
    "Je récupère mes données depuis le format JSON vers un dictionnaire python"
   ]
  },
  {
   "cell_type": "code",
   "execution_count": 2,
   "id": "21fc8098",
   "metadata": {},
   "outputs": [],
   "source": [
    "import json\n",
    "\n",
    "monjson = json.loads(r.text)"
   ]
  },
  {
   "cell_type": "markdown",
   "id": "4ae3fafc",
   "metadata": {
    "slideshow": {
     "slide_type": "slide"
    }
   },
   "source": [
    "Je fais une première analyse de ma structure de donnée"
   ]
  },
  {
   "cell_type": "markdown",
   "id": "55c81333",
   "metadata": {},
   "source": [
    "Combien de données il y a t'il dans ce fichier?"
   ]
  },
  {
   "cell_type": "code",
   "execution_count": 3,
   "id": "a4fb4737",
   "metadata": {},
   "outputs": [
    {
     "name": "stdout",
     "output_type": "stream",
     "text": [
      "Il y a 19603 données dans le dictionnaire\n"
     ]
    }
   ],
   "source": [
    "print(f\"Il y a {len(monjson)} données dans le dictionnaire\")"
   ]
  },
  {
   "cell_type": "markdown",
   "id": "0ab24dd1",
   "metadata": {
    "slideshow": {
     "slide_type": "slide"
    }
   },
   "source": [
    "Quelles est ma première entrée du dictionnaire?"
   ]
  },
  {
   "cell_type": "code",
   "execution_count": 4,
   "id": "7eea8c40",
   "metadata": {
    "scrolled": true
   },
   "outputs": [
    {
     "name": "stdout",
     "output_type": "stream",
     "text": [
      "{'datasetid': 'fr-esr-insertion_professionnelle-master', 'recordid': 'cc5c1f29001394c4b096b4816e81dbb2e3b02e5a', 'fields': {'domaine': 'Sciences, technologies et santé', 'emplois_stables': '65', 'cle_disc': 'disc15_18', 'code_du_domaine': 'STS', 'annee': '2012', 'code_de_l_academie': 'A06', 'salaire_net_mensuel_regional_1er_quartile': '1400', 'emplois_cadre': '81', 'situation': '18 mois après le diplôme', 'taux_dinsertion': '95', 'femmes': '14', 'emplois_cadre_ou_professions_intermediaires': '95', 'salaire_brut_annuel_estime': '32600', 'taux_de_chomage_regional': '8.9', 'etablissementactuel': 'Université Clermont Auvergne (UCA)', 'discipline': \"Sciences de l'ingénieur\", 'salaire_net_median_des_emplois_a_temps_plein': '2090', 'poids_de_la_discipline': '14', 'diplome': 'MASTER LMD', 'salaire_net_mensuel_regional_3eme_quartile': '2020', 'emplois_a_temps_plein': '98', 'etablissement': 'Clermont-Ferrand 2 - Blaise Pascal', 'emplois_exterieurs_a_la_region_de_luniversite': '81', 'taux_de_reponse': '68', 'code_de_la_discipline': 'disc15', 'salaire_net_mensuel_median_regional': '1740', 'numero_de_l_etablissement': '0631525R', 'id_paysage': 'n1E6T', 'cle_etab': 'Clermont-Ferrand 2 - Blaise Pascal_18', 'nombre_de_reponses': '42', 'de_diplomes_boursiers': '41', 'academie': 'Clermont-Ferrand'}, 'record_timestamp': '2023-10-30T01:33:57.599Z'}\n"
     ]
    }
   ],
   "source": [
    "print(monjson[0])"
   ]
  },
  {
   "cell_type": "markdown",
   "id": "d82130ca",
   "metadata": {
    "slideshow": {
     "slide_type": "slide"
    }
   },
   "source": [
    "On peut afficher d'une manière plus jolie/agréable:"
   ]
  },
  {
   "cell_type": "code",
   "execution_count": 5,
   "id": "be260b17",
   "metadata": {
    "scrolled": true
   },
   "outputs": [
    {
     "name": "stdout",
     "output_type": "stream",
     "text": [
      "{\n",
      "    \"datasetid\": \"fr-esr-insertion_professionnelle-master\",\n",
      "    \"fields\": {\n",
      "        \"academie\": \"Clermont-Ferrand\",\n",
      "        \"annee\": \"2012\",\n",
      "        \"cle_disc\": \"disc15_18\",\n",
      "        \"cle_etab\": \"Clermont-Ferrand 2 - Blaise Pascal_18\",\n",
      "        \"code_de_l_academie\": \"A06\",\n",
      "        \"code_de_la_discipline\": \"disc15\",\n",
      "        \"code_du_domaine\": \"STS\",\n",
      "        \"de_diplomes_boursiers\": \"41\",\n",
      "        \"diplome\": \"MASTER LMD\",\n",
      "        \"discipline\": \"Sciences de l'ing\\u00e9nieur\",\n",
      "        \"domaine\": \"Sciences, technologies et sant\\u00e9\",\n",
      "        \"emplois_a_temps_plein\": \"98\",\n",
      "        \"emplois_cadre\": \"81\",\n",
      "        \"emplois_cadre_ou_professions_intermediaires\": \"95\",\n",
      "        \"emplois_exterieurs_a_la_region_de_luniversite\": \"81\",\n",
      "        \"emplois_stables\": \"65\",\n",
      "        \"etablissement\": \"Clermont-Ferrand 2 - Blaise Pascal\",\n",
      "        \"etablissementactuel\": \"Universit\\u00e9 Clermont Auvergne (UCA)\",\n",
      "        \"femmes\": \"14\",\n",
      "        \"id_paysage\": \"n1E6T\",\n",
      "        \"nombre_de_reponses\": \"42\",\n",
      "        \"numero_de_l_etablissement\": \"0631525R\",\n",
      "        \"poids_de_la_discipline\": \"14\",\n",
      "        \"salaire_brut_annuel_estime\": \"32600\",\n",
      "        \"salaire_net_median_des_emplois_a_temps_plein\": \"2090\",\n",
      "        \"salaire_net_mensuel_median_regional\": \"1740\",\n",
      "        \"salaire_net_mensuel_regional_1er_quartile\": \"1400\",\n",
      "        \"salaire_net_mensuel_regional_3eme_quartile\": \"2020\",\n",
      "        \"situation\": \"18 mois apr\\u00e8s le dipl\\u00f4me\",\n",
      "        \"taux_de_chomage_regional\": \"8.9\",\n",
      "        \"taux_de_reponse\": \"68\",\n",
      "        \"taux_dinsertion\": \"95\"\n",
      "    },\n",
      "    \"record_timestamp\": \"2023-10-30T01:33:57.599Z\",\n",
      "    \"recordid\": \"cc5c1f29001394c4b096b4816e81dbb2e3b02e5a\"\n",
      "}\n"
     ]
    }
   ],
   "source": [
    "print(json.dumps(monjson[0], sort_keys=True, indent=4))"
   ]
  },
  {
   "cell_type": "markdown",
   "id": "2ff6e8d6",
   "metadata": {},
   "source": [
    "Quelles sont mes clés dans mon dictionnaire?"
   ]
  },
  {
   "cell_type": "code",
   "execution_count": 6,
   "id": "42223c53",
   "metadata": {
    "scrolled": true
   },
   "outputs": [
    {
     "name": "stdout",
     "output_type": "stream",
     "text": [
      "datasetid\n",
      "recordid\n",
      "fields\n",
      "record_timestamp\n"
     ]
    }
   ],
   "source": [
    "for key in monjson[0]:\n",
    "    print(key)"
   ]
  },
  {
   "cell_type": "markdown",
   "id": "b1e41174",
   "metadata": {},
   "source": [
    "Le champ qui nous intéresse est donc le champ \"fields\" qui contient les données de l'établissement:"
   ]
  },
  {
   "cell_type": "code",
   "execution_count": 7,
   "id": "3af62646",
   "metadata": {
    "scrolled": true
   },
   "outputs": [
    {
     "name": "stdout",
     "output_type": "stream",
     "text": [
      "{\n",
      "    \"academie\": \"Clermont-Ferrand\",\n",
      "    \"annee\": \"2012\",\n",
      "    \"cle_disc\": \"disc15_18\",\n",
      "    \"cle_etab\": \"Clermont-Ferrand 2 - Blaise Pascal_18\",\n",
      "    \"code_de_l_academie\": \"A06\",\n",
      "    \"code_de_la_discipline\": \"disc15\",\n",
      "    \"code_du_domaine\": \"STS\",\n",
      "    \"de_diplomes_boursiers\": \"41\",\n",
      "    \"diplome\": \"MASTER LMD\",\n",
      "    \"discipline\": \"Sciences de l'ing\\u00e9nieur\",\n",
      "    \"domaine\": \"Sciences, technologies et sant\\u00e9\",\n",
      "    \"emplois_a_temps_plein\": \"98\",\n",
      "    \"emplois_cadre\": \"81\",\n",
      "    \"emplois_cadre_ou_professions_intermediaires\": \"95\",\n",
      "    \"emplois_exterieurs_a_la_region_de_luniversite\": \"81\",\n",
      "    \"emplois_stables\": \"65\",\n",
      "    \"etablissement\": \"Clermont-Ferrand 2 - Blaise Pascal\",\n",
      "    \"etablissementactuel\": \"Universit\\u00e9 Clermont Auvergne (UCA)\",\n",
      "    \"femmes\": \"14\",\n",
      "    \"id_paysage\": \"n1E6T\",\n",
      "    \"nombre_de_reponses\": \"42\",\n",
      "    \"numero_de_l_etablissement\": \"0631525R\",\n",
      "    \"poids_de_la_discipline\": \"14\",\n",
      "    \"salaire_brut_annuel_estime\": \"32600\",\n",
      "    \"salaire_net_median_des_emplois_a_temps_plein\": \"2090\",\n",
      "    \"salaire_net_mensuel_median_regional\": \"1740\",\n",
      "    \"salaire_net_mensuel_regional_1er_quartile\": \"1400\",\n",
      "    \"salaire_net_mensuel_regional_3eme_quartile\": \"2020\",\n",
      "    \"situation\": \"18 mois apr\\u00e8s le dipl\\u00f4me\",\n",
      "    \"taux_de_chomage_regional\": \"8.9\",\n",
      "    \"taux_de_reponse\": \"68\",\n",
      "    \"taux_dinsertion\": \"95\"\n",
      "}\n"
     ]
    }
   ],
   "source": [
    "print(json.dumps(monjson[0][\"fields\"], sort_keys=True, indent=4))"
   ]
  },
  {
   "cell_type": "markdown",
   "id": "3321ae22",
   "metadata": {},
   "source": [
    "Je souhaite récupérer les données de l'établissement \"Toulouse 1 - Capitole\", pour la mention \"Informatique\", et le diplome \"MASTER LMD\""
   ]
  },
  {
   "cell_type": "code",
   "execution_count": 8,
   "id": "f84f3fa8",
   "metadata": {
    "scrolled": true
   },
   "outputs": [
    {
     "name": "stdout",
     "output_type": "stream",
     "text": [
      "{\n",
      "    \"academie\": \"Toulouse\",\n",
      "    \"annee\": \"2020\",\n",
      "    \"cle_disc\": \"disc16_18\",\n",
      "    \"cle_etab\": \"Toulouse 1 - Capitole_18\",\n",
      "    \"code_de_l_academie\": \"A16\",\n",
      "    \"code_de_la_discipline\": \"disc16\",\n",
      "    \"code_du_domaine\": \"STS\",\n",
      "    \"de_diplomes_boursiers\": \"26.47\",\n",
      "    \"diplome\": \"MASTER LMD\",\n",
      "    \"discipline\": \"Informatique\",\n",
      "    \"domaine\": \"Sciences, technologies et sant\\u00e9\",\n",
      "    \"emplois_a_temps_plein\": \"100\",\n",
      "    \"emplois_cadre\": \"92\",\n",
      "    \"emplois_cadre_ou_professions_intermediaires\": \"96\",\n",
      "    \"emplois_exterieurs_a_la_region_de_luniversite\": \"30\",\n",
      "    \"emplois_stables\": \"92\",\n",
      "    \"etablissement\": \"Toulouse 1 - Capitole\",\n",
      "    \"etablissementactuel\": \"Universit\\u00e9 Toulouse Capitole\",\n",
      "    \"femmes\": \"33\",\n",
      "    \"id_paysage\": \"542Id\",\n",
      "    \"nombre_de_reponses\": \"58\",\n",
      "    \"numero_de_l_etablissement\": \"0311382J\",\n",
      "    \"poids_de_la_discipline\": \"7\",\n",
      "    \"salaire_brut_annuel_estime\": \"33500\",\n",
      "    \"salaire_net_median_des_emplois_a_temps_plein\": \"ns\",\n",
      "    \"salaire_net_mensuel_median_regional\": \"1890\",\n",
      "    \"salaire_net_mensuel_regional_1er_quartile\": \"1420\",\n",
      "    \"salaire_net_mensuel_regional_3eme_quartile\": \"2290\",\n",
      "    \"situation\": \"18 mois apr\\u00e8s le dipl\\u00f4me\",\n",
      "    \"taux_d_emploi\": \"97\",\n",
      "    \"taux_d_emploi_salarie_en_france\": \"76\",\n",
      "    \"taux_de_chomage_regional\": \"8.6\",\n",
      "    \"taux_de_reponse\": \"86\",\n",
      "    \"taux_dinsertion\": \"98\"\n",
      "}\n"
     ]
    }
   ],
   "source": [
    "def getResultPerYearFromEtablissement(monJson,etablissement,discipline,diplome,situation):\n",
    "    # situation = 18 ou 30 mois\n",
    "    donnees = []\n",
    "    for data in monJson:\n",
    "        field = data[\"fields\"]\n",
    "        if field[\"etablissement\"] == etablissement and field[\"discipline\"] == discipline and field[\"diplome\"]==diplome and field[\"situation\"][0:2] == situation:\n",
    "            #print(json.dumps(field, sort_keys=True, indent=4))\n",
    "            #newDico[int(field[\"annee\"])] = int(field[idData])\n",
    "            donnees.append(field)\n",
    "    return donnees\n",
    "\n",
    "resultToulouseCapitole18 = getResultPerYearFromEtablissement(monjson,\"Toulouse 1 - Capitole\",\"Informatique\",\"MASTER LMD\",\"18\")\n",
    "print(json.dumps(resultToulouseCapitole18[0], sort_keys=True, indent=4))\n",
    "resultToulouseCapitole30 = getResultPerYearFromEtablissement(monjson,\"Toulouse 1 - Capitole\",\"Informatique\",\"MASTER LMD\",\"30\")"
   ]
  },
  {
   "cell_type": "markdown",
   "id": "32c1512a",
   "metadata": {},
   "source": [
    "Quel était le salaire net median des diplomés en 2012?"
   ]
  },
  {
   "cell_type": "code",
   "execution_count": 27,
   "id": "6dabe9e2",
   "metadata": {
    "scrolled": true
   },
   "outputs": [
    {
     "name": "stdout",
     "output_type": "stream",
     "text": [
      "En 2012 le salaire net median des emplois à temps pleins des diplomés était de 1940€ après 18 mois\n",
      "En 2012 le salaire net median des emplois à temps pleins des diplomés était de 2060€ après 30 mois\n"
     ]
    }
   ],
   "source": [
    "def afficherSalaireNetMedian(data,annee,mois): \n",
    "    for d in data:\n",
    "        if d[\"annee\"] == annee:\n",
    "            salaire_net = d[\"salaire_net_median_des_emplois_a_temps_plein\"]\n",
    "            print(f\"En {annee} le salaire net median des emplois à temps pleins des diplomés était de {salaire_net}€ après {mois} mois\")\n",
    "        \n",
    "def recupererSalaireNetMedian(data,annee,mois): \n",
    "    for d in data:\n",
    "        if d[\"annee\"] == annee:\n",
    "            salaire_net = d[\"salaire_net_median_des_emplois_a_temps_plein\"]\n",
    "            return salaire_net\n",
    "\n",
    "afficherSalaireNetMedian(resultToulouseCapitole18,\"2012\",\"18\")\n",
    "afficherSalaireNetMedian(resultToulouseCapitole30,\"2012\",\"30\")"
   ]
  },
  {
   "cell_type": "markdown",
   "id": "f2e897a6",
   "metadata": {},
   "source": [
    "Affichons le salaire pour toutes les années:"
   ]
  },
  {
   "cell_type": "code",
   "execution_count": 10,
   "id": "ad830c69",
   "metadata": {},
   "outputs": [
    {
     "name": "stdout",
     "output_type": "stream",
     "text": [
      "En 2020 le salaire net median des emplois à temps pleins des diplomés était de ns€ après 18 mois\n",
      "En 2014 le salaire net median des emplois à temps pleins des diplomés était de 1930€ après 18 mois\n",
      "En 2012 le salaire net median des emplois à temps pleins des diplomés était de 1940€ après 18 mois\n",
      "En 2019 le salaire net median des emplois à temps pleins des diplomés était de 2110€ après 18 mois\n",
      "En 2017 le salaire net median des emplois à temps pleins des diplomés était de 2080€ après 18 mois\n",
      "En 2018 le salaire net median des emplois à temps pleins des diplomés était de 2160€ après 18 mois\n",
      "En 2015 le salaire net median des emplois à temps pleins des diplomés était de 2000€ après 18 mois\n",
      "En 2016 le salaire net median des emplois à temps pleins des diplomés était de 1980€ après 18 mois\n",
      "En 2013 le salaire net median des emplois à temps pleins des diplomés était de 1900€ après 18 mois\n"
     ]
    }
   ],
   "source": [
    "for data in resultToulouseCapitole18:\n",
    "    afficherSalaireNetMedian(resultToulouseCapitole18,data[\"annee\"],\"18\")"
   ]
  },
  {
   "cell_type": "markdown",
   "id": "d4866602",
   "metadata": {},
   "source": [
    "Ce n'est pas parfait, on aurait préféré l'afficher dans l'ordre:"
   ]
  },
  {
   "cell_type": "code",
   "execution_count": 11,
   "id": "385f98ee",
   "metadata": {
    "scrolled": true
   },
   "outputs": [
    {
     "name": "stdout",
     "output_type": "stream",
     "text": [
      "En 2011 le salaire net median des emplois à temps pleins des diplomés était de 2170€ après 30 mois\n",
      "En 2012 le salaire net median des emplois à temps pleins des diplomés était de 1940€ après 18 mois\n",
      "En 2012 le salaire net median des emplois à temps pleins des diplomés était de 2060€ après 30 mois\n",
      "En 2013 le salaire net median des emplois à temps pleins des diplomés était de 1900€ après 18 mois\n",
      "En 2013 le salaire net median des emplois à temps pleins des diplomés était de 2120€ après 30 mois\n",
      "En 2014 le salaire net median des emplois à temps pleins des diplomés était de 1930€ après 18 mois\n",
      "En 2014 le salaire net median des emplois à temps pleins des diplomés était de 1940€ après 30 mois\n",
      "En 2015 le salaire net median des emplois à temps pleins des diplomés était de 2000€ après 18 mois\n",
      "En 2015 le salaire net median des emplois à temps pleins des diplomés était de 2110€ après 30 mois\n",
      "En 2016 le salaire net median des emplois à temps pleins des diplomés était de 1980€ après 18 mois\n",
      "En 2016 le salaire net median des emplois à temps pleins des diplomés était de 2110€ après 30 mois\n",
      "En 2017 le salaire net median des emplois à temps pleins des diplomés était de 2080€ après 18 mois\n",
      "En 2017 le salaire net median des emplois à temps pleins des diplomés était de 2270€ après 30 mois\n",
      "En 2018 le salaire net median des emplois à temps pleins des diplomés était de 2160€ après 18 mois\n",
      "En 2018 le salaire net median des emplois à temps pleins des diplomés était de 2270€ après 30 mois\n",
      "En 2019 le salaire net median des emplois à temps pleins des diplomés était de 2110€ après 18 mois\n",
      "En 2019 le salaire net median des emplois à temps pleins des diplomés était de 2180€ après 30 mois\n",
      "En 2020 le salaire net median des emplois à temps pleins des diplomés était de ns€ après 18 mois\n",
      "En 2020 le salaire net median des emplois à temps pleins des diplomés était de 2370€ après 30 mois\n"
     ]
    }
   ],
   "source": [
    "for year in range(2011,2021):\n",
    "    afficherSalaireNetMedian(resultToulouseCapitole18,str(year),\"18\")\n",
    "    afficherSalaireNetMedian(resultToulouseCapitole30,str(year),\"30\")"
   ]
  },
  {
   "cell_type": "markdown",
   "id": "3c226510",
   "metadata": {},
   "source": [
    "Comment progresse le salaire entre 18 et 30 mois?"
   ]
  },
  {
   "cell_type": "code",
   "execution_count": 29,
   "id": "59bcbcd8",
   "metadata": {
    "scrolled": true
   },
   "outputs": [
    {
     "name": "stdout",
     "output_type": "stream",
     "text": [
      "Le salaire a progressé de 120 € en 2012\n",
      "Le salaire a progressé de 220 € en 2013\n",
      "Le salaire a progressé de 10 € en 2014\n",
      "Le salaire a progressé de 110 € en 2015\n",
      "Le salaire a progressé de 130 € en 2016\n",
      "Le salaire a progressé de 190 € en 2017\n",
      "Le salaire a progressé de 110 € en 2018\n",
      "Le salaire a progressé de 70 € en 2019\n"
     ]
    }
   ],
   "source": [
    "for year in range(2011,2021):\n",
    "    s1 = recupererSalaireNetMedian(resultToulouseCapitole18,str(year),\"18\")\n",
    "    s2 = recupererSalaireNetMedian(resultToulouseCapitole30,str(year),\"30\")\n",
    "    if s1 != None and s1 != \"ns\":\n",
    "        difference = int(s2)-int(s1)\n",
    "        print(f\"Le salaire a progressé de {difference} € en {year}\")"
   ]
  },
  {
   "cell_type": "markdown",
   "id": "57fd4595",
   "metadata": {},
   "source": [
    "Traçons l'évolution des salaires en sortie du diplome:"
   ]
  },
  {
   "cell_type": "code",
   "execution_count": 31,
   "id": "e8535b7b",
   "metadata": {},
   "outputs": [
    {
     "data": {
      "image/png": "[encoded data removed]",
      "text/plain": [
       "<Figure size 432x288 with 1 Axes>"
      ]
     },
     "metadata": {
      "needs_background": "light"
     },
     "output_type": "display_data"
    }
   ],
   "source": [
    "import matplotlib.pyplot as plt\n",
    "\n",
    "def plotSalaire(data,situation):\n",
    "    y = []\n",
    "    x = []\n",
    "    for year in range(2011,2021):\n",
    "        s1 = recupererSalaireNetMedian(data,str(year),situation)\n",
    "        if s1 != None and s1 != \"ns\" and s1 != \"nd\":\n",
    "            y.append(int(s1))\n",
    "            x.append(year)\n",
    "    # plot\n",
    "    fig, ax = plt.subplots()\n",
    "    ax.plot(x,y)\n",
    "    plt.show()\n",
    "    \n",
    "plotSalaire(resultToulouseCapitole18,\"18\")"
   ]
  },
  {
   "cell_type": "markdown",
   "id": "e134d078",
   "metadata": {},
   "source": [
    "Et pour Bordeaux?"
   ]
  },
  {
   "cell_type": "code",
   "execution_count": 32,
   "id": "dd65acbc",
   "metadata": {},
   "outputs": [
    {
     "data": {
      "image/png": "[encoded data removed]",
      "text/plain": [
       "<Figure size 432x288 with 1 Axes>"
      ]
     },
     "metadata": {
      "needs_background": "light"
     },
     "output_type": "display_data"
    }
   ],
   "source": [
    "resultBordeaux18= getResultPerYearFromEtablissement(monjson,\"Bordeaux\",\"Informatique\",\"MASTER LMD\",\"18\")\n",
    "plotSalaire(resultBordeaux18,\"18\")"
   ]
  },
  {
   "cell_type": "markdown",
   "id": "b74be8d5",
   "metadata": {},
   "source": [
    "Et si on enregistrer nos résultats dans un fichier?"
   ]
  },
  {
   "cell_type": "code",
   "execution_count": 34,
   "id": "01dbfa85",
   "metadata": {
    "scrolled": true
   },
   "outputs": [],
   "source": [
    "def saveData(filename, data, situation):\n",
    "    with open(filename, \"w\") as my_file:\n",
    "        for year in range(2011,2021):\n",
    "            s1 = recupererSalaireNetMedian(data,str(year),situation)\n",
    "            my_file.write(f\"{year};{s1}\\n\")\n",
    "\n",
    "saveData(\"UTC-18.csv\",resultToulouseCapitole18,\"18\")\n",
    "saveData(\"UTC-30.csv\",resultToulouseCapitole30,\"30\")\n",
    "saveData(\"Bordeaux-18.csv\",resultBordeaux18,\"18\")"
   ]
  },
  {
   "cell_type": "markdown",
   "id": "23a9aca6",
   "metadata": {},
   "source": [
    "Et si on veut lire nos fichiers?"
   ]
  },
  {
   "cell_type": "code",
   "execution_count": 35,
   "id": "92ba4bae",
   "metadata": {},
   "outputs": [
    {
     "name": "stdout",
     "output_type": "stream",
     "text": [
      "2011;None\n",
      "\n",
      "2012;1940\n",
      "\n",
      "2013;1900\n",
      "\n",
      "2014;1930\n",
      "\n",
      "2015;2000\n",
      "\n",
      "2016;1980\n",
      "\n",
      "2017;2080\n",
      "\n",
      "2018;2160\n",
      "\n",
      "2019;2110\n",
      "\n",
      "2020;ns\n",
      "\n"
     ]
    }
   ],
   "source": [
    "import os\n",
    "def readFile(path):\n",
    "    if os.path.exists(path):\n",
    "        with open(path) as my_file:\n",
    "            for line in my_file:\n",
    "                print(line)\n",
    "    else:\n",
    "        print(f\"Le fichier {path} n'existe pas\")\n",
    "        \n",
    "readFile(\"UTC-18.csv\")"
   ]
  }
 ],
 "metadata": {
  "celltoolbar": "Diaporama",
  "kernelspec": {
   "display_name": "Python 3 (ipykernel)",
   "language": "python",
   "name": "python3"
  },
  "language_info": {
   "codemirror_mode": {
    "name": "ipython",
    "version": 3
   },
   "file_extension": ".py",
   "mimetype": "text/x-python",
   "name": "python",
   "nbconvert_exporter": "python",
   "pygments_lexer": "ipython3",
   "version": "3.9.12"
  }
 },
 "nbformat": 4,
 "nbformat_minor": 5
}
